{
 "cells": [
  {
   "cell_type": "markdown",
   "metadata": {},
   "source": [
    "# NLP for detecting Fake news article"
   ]
  },
  {
   "cell_type": "markdown",
   "metadata": {},
   "source": [
    "## Libraries"
   ]
  },
  {
   "cell_type": "code",
   "execution_count": 1,
   "metadata": {},
   "outputs": [],
   "source": [
    "# for processing data\n",
    "import pandas as pd\n",
    "import numpy as np \n",
    "import nltk \n",
    "from nltk.corpus import stopwords\n",
    "import re\n",
    "\n",
    "# for building a model\n",
    "from sklearn.model_selection import train_test_split\n",
    "from sklearn.feature_extraction.text import TfidfVectorizer\n",
    "from sklearn.linear_model import LogisticRegression\n",
    "from sklearn import feature_extraction, model_selection, pipeline, feature_selection, metrics"
   ]
  },
  {
   "cell_type": "markdown",
   "metadata": {},
   "source": [
    "## Functions"
   ]
  },
  {
   "cell_type": "code",
   "execution_count": 2,
   "metadata": {},
   "outputs": [],
   "source": [
    "def load_data(directory_Fake_news = 'News_dataset/Fake.csv', directory_True_news = 'News_dataset/True.csv'):\n",
    "    '''\n",
    "    Loading data from csv files into dataframe \n",
    "    Parameters\n",
    "    ----------\n",
    "    directory_Fake_news: string\n",
    "        location of csv file with fake news\n",
    "    directory_True_news: string\n",
    "        locetion of csv file with true news\n",
    "    Returns\n",
    "    -------\n",
    "    df: dataframe\n",
    "        dataframe with fake and true news titles merged and labeled 1 if true news, 0 if fake news\n",
    "    '''\n",
    "    df_fake = pd.read_csv(directory_Fake_news)\n",
    "    df_fake['target'] = [0]*len(df_fake)\n",
    "    df_fake = df_fake[['title', 'target']].copy()\n",
    "\n",
    "    df_true = pd.read_csv(directory_True_news)\n",
    "    df_true['target'] = [1]*len(df_true)\n",
    "    df_true = df_true[['title', 'target']].copy()\n",
    "\n",
    "    df = pd.concat((df_fake, df_true), axis=0, ignore_index=True)\n",
    "    return df\n",
    "    "
   ]
  },
  {
   "cell_type": "code",
   "execution_count": 3,
   "metadata": {},
   "outputs": [],
   "source": [
    "def preprocess_text(text, stopwords = None, flag_lemm = False):\n",
    "    '''\n",
    "    Preprocessing of a text - removing special characters, stopwords and converting to root words\n",
    "    Parameters\n",
    "    ----------\n",
    "    text: string\n",
    "        input text to process\n",
    "    stopwords: list\n",
    "        a list of stopwords to remove from text\n",
    "    flag_lemm: bool\n",
    "        a flag to identify if lemmatization is needed\n",
    "    Returns\n",
    "    -------\n",
    "    text: string\n",
    "        a processed string\n",
    "    '''\n",
    "    text = re.sub(r'[^\\w\\s]', '', str(text).lower().strip())\n",
    "    list_text = text.split() \n",
    "    \n",
    "    if stopwords is not None:\n",
    "        list_text = [word for word in list_text if word not in stopwords] \n",
    "        \n",
    "    if flag_lemm == True:\n",
    "        lem = nltk.stem.wordnet.WordNetLemmatizer()\n",
    "        list_text = [lem.lemmatize(word) for word in list_text]    \n",
    "        \n",
    "    text = \" \".join(list_text)\n",
    "    return text"
   ]
  },
  {
   "cell_type": "code",
   "execution_count": 4,
   "metadata": {},
   "outputs": [],
   "source": [
    "def preprocess_data(df):\n",
    "    stopwords = nltk.corpus.stopwords.words(\"english\")\n",
    "    df[\"title\"] = df[\"title\"].apply(lambda x: preprocess_text(x, stopwords=stopwords, flag_lemm=True))\n",
    "    return df"
   ]
  },
  {
   "cell_type": "code",
   "execution_count": 5,
   "metadata": {},
   "outputs": [],
   "source": [
    "def create_features_and_model(X_train, y_train):\n",
    "    '''\n",
    "    Creating features for Bag-of-Words model with Tf-Idf \n",
    "    Parameters\n",
    "    ----------\n",
    "    X_train: pandas.Series\n",
    "        training data: texts, from which to built features\n",
    "    y_train: pandas.Series\n",
    "        training data labels\n",
    "    Returns\n",
    "    -------\n",
    "    model: pipeline\n",
    "        a pipeline of a model\n",
    "    X_train: scipy.sparse.csr.csr_matrix\n",
    "        matrix with features\n",
    "    '''\n",
    "    # create feature matrix\n",
    "    vectorizer = feature_extraction.text.TfidfVectorizer(max_features=30000, ngram_range=(1,2))\n",
    "    corpus = X_train\n",
    "    vectorizer.fit(corpus)\n",
    "    X_train = vectorizer.transform(corpus)\n",
    "    # feature selection for dimensionaluty reduction of matrix\n",
    "    X_names = vectorizer.get_feature_names()\n",
    "    p_value_limit = 0.95\n",
    "    df_features = pd.DataFrame()\n",
    "    for class_news in np.unique(y_train):\n",
    "        chi2, p = feature_selection.chi2(X_train, y_train==class_news)\n",
    "        df_features = df_features.append(pd.DataFrame({\"feature\":X_names, \"score\":1-p, \"y\":class_news}))\n",
    "        df_features = df_features.sort_values([\"y\",\"score\"], ascending=[True,False])\n",
    "        df_features = df_features[df_features[\"score\"]>p_value_limit]\n",
    "    X_names = df_features[\"feature\"].unique().tolist()\n",
    "    # final reduced feature matrix\n",
    "    vectorizer = feature_extraction.text.TfidfVectorizer(vocabulary=X_names)\n",
    "    vectorizer.fit(corpus)\n",
    "    X_train = vectorizer.transform(corpus)\n",
    "    #models\n",
    "    classifier = LogisticRegression()\n",
    "    model = pipeline.Pipeline([(\"vectorizer\", vectorizer),(\"classifier\", classifier)])\n",
    "    return model, X_train"
   ]
  },
  {
   "cell_type": "code",
   "execution_count": 6,
   "metadata": {},
   "outputs": [],
   "source": [
    "def train(X_train, y_train, model):\n",
    "    model[\"classifier\"].fit(X_train, y_train)\n",
    "    return model"
   ]
  },
  {
   "cell_type": "code",
   "execution_count": 7,
   "metadata": {},
   "outputs": [],
   "source": [
    "def test(X_test, y_test, model):\n",
    "    predicted = model.predict(X_test)\n",
    "    predicted_prob = model.predict_proba(X_test)\n",
    "    return predicted, predicted_prob"
   ]
  },
  {
   "cell_type": "markdown",
   "metadata": {},
   "source": [
    "## Building and testing model"
   ]
  },
  {
   "cell_type": "code",
   "execution_count": 8,
   "metadata": {},
   "outputs": [],
   "source": [
    "df_raw = load_data()"
   ]
  },
  {
   "cell_type": "code",
   "execution_count": 9,
   "metadata": {},
   "outputs": [],
   "source": [
    "df = preprocess_data(df_raw)"
   ]
  },
  {
   "cell_type": "code",
   "execution_count": 10,
   "metadata": {},
   "outputs": [],
   "source": [
    "X_train, X_test, y_train, y_test = train_test_split(df['title'], df['target'], \n",
    "                                                    test_size=0.2, random_state=42, shuffle=True)"
   ]
  },
  {
   "cell_type": "code",
   "execution_count": 11,
   "metadata": {},
   "outputs": [],
   "source": [
    "model_template, X_train = create_features_and_model(X_train, y_train)"
   ]
  },
  {
   "cell_type": "code",
   "execution_count": 12,
   "metadata": {},
   "outputs": [],
   "source": [
    "model = train(X_train, y_train, model_template)\n",
    "result = test(X_test, y_test, model)"
   ]
  },
  {
   "cell_type": "markdown",
   "metadata": {},
   "source": [
    "## Plotting the results"
   ]
  },
  {
   "cell_type": "code",
   "execution_count": 13,
   "metadata": {},
   "outputs": [],
   "source": [
    "import matplotlib.pyplot as plt\n",
    "import seaborn as sns"
   ]
  },
  {
   "cell_type": "code",
   "execution_count": 14,
   "metadata": {},
   "outputs": [],
   "source": [
    "predicted, predicted_prob = result\n",
    "accuracy = metrics.accuracy_score(y_test, predicted)\n",
    "auc = metrics.roc_auc_score(y_test, predicted_prob[:,1])\n",
    "cm = metrics.confusion_matrix(y_test, predicted)"
   ]
  },
  {
   "cell_type": "code",
   "execution_count": 15,
   "metadata": {},
   "outputs": [
    {
     "name": "stdout",
     "output_type": "stream",
     "text": [
      "Accuracy: 0.9349665924276169\n",
      "Auc score: 0.9820290740021503\n"
     ]
    }
   ],
   "source": [
    "print(\"Accuracy:\",  accuracy)\n",
    "print(\"Auc score:\", auc)"
   ]
  },
  {
   "cell_type": "markdown",
   "metadata": {},
   "source": [
    "### Confusion matrix"
   ]
  },
  {
   "cell_type": "code",
   "execution_count": 16,
   "metadata": {},
   "outputs": [
    {
     "data": {
      "text/plain": [
       "[Text(0.5, 15.0, 'Predicted'),\n",
       " Text(33.0, 0.5, 'Actual'),\n",
       " [Text(0.5, 0, 'Fake news'), Text(1.5, 0, 'True news')],\n",
       " [Text(0, 0.5, 'Fake news'), Text(0, 1.5, 'True news')],\n",
       " Text(0.5, 1.0, 'Confusion matrix')]"
      ]
     },
     "execution_count": 16,
     "metadata": {},
     "output_type": "execute_result"
    },
    {
     "data": {
      "image/png": "[encoded data removed]",
      "text/plain": [
       "<Figure size 432x288 with 1 Axes>"
      ]
     },
     "metadata": {
      "needs_background": "light"
     },
     "output_type": "display_data"
    }
   ],
   "source": [
    "fig, ax = plt.subplots()\n",
    "sns.heatmap(cm, cmap=plt.cm.Blues, cbar=False, annot=True, fmt='d', ax=ax)\n",
    "ax.set(xlabel=\"Predicted\", ylabel=\"Actual\", xticklabels=['Fake news','True news'], yticklabels=['Fake news','True news'], title=\"Confusion matrix\")"
   ]
  }
 ],
 "metadata": {
  "kernelspec": {
   "display_name": "Python 3",
   "language": "python",
   "name": "python3"
  },
  "language_info": {
   "codemirror_mode": {
    "name": "ipython",
    "version": 3
   },
   "file_extension": ".py",
   "mimetype": "text/x-python",
   "name": "python",
   "nbconvert_exporter": "python",
   "pygments_lexer": "ipython3",
   "version": "3.7.6"
  }
 },
 "nbformat": 4,
 "nbformat_minor": 4
}
